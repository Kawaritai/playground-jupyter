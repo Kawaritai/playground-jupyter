{
 "cells": [
  {
   "cell_type": "markdown",
   "metadata": {},
   "source": [
    "# Huffman Coding\n",
    "\n",
    "A rudimentary program to see if I could implement the Huffman coding algorithm from scratch -- encode and decode. That's it. Can't be bothered to pretty print or optimise everything. \n",
    "\n",
    "Wikipedia page on **Huffman coding**: [https://en.wikipedia.org/wiki/Huffman_coding](https://en.wikipedia.org/wiki/Huffman_coding)\n",
    "\n",
    "- **Informal description**\n",
    "    - **Given**: A set of symbols and their weights (usually proportional to probabilities).\n",
    "\n",
    "    - **Find**: A prefix-free binary code (a set of codewords) with minimum expected codeword length (equivalently, a tree with minimum weighted path length from the root)."
   ]
  },
  {
   "cell_type": "code",
   "execution_count": 546,
   "metadata": {},
   "outputs": [],
   "source": [
    "from random import randint"
   ]
  },
  {
   "cell_type": "code",
   "execution_count": 547,
   "metadata": {},
   "outputs": [],
   "source": [
    "# 1. Define symbols\n",
    "symbols = [\"A\", \"B\", \"C\", \"D\", \"E\", \"F\"]\n",
    "num_symbols = len(symbols)\n",
    "weights = [0 for _ in range(num_symbols)]"
   ]
  },
  {
   "cell_type": "code",
   "execution_count": 548,
   "metadata": {},
   "outputs": [
    {
     "name": "stdout",
     "output_type": "stream",
     "text": [
      "sym_str DCFEAABEFFFBFDADECBEACBCDEEEF\n",
      "weights [0.13793103448275862, 0.13793103448275862, 0.13793103448275862, 0.13793103448275862, 0.2413793103448276, 0.20689655172413793]\n",
      "weights_dict {'A': 0.14, 'B': 0.14, 'C': 0.14, 'D': 0.14, 'E': 0.24, 'F': 0.21}\n"
     ]
    }
   ],
   "source": [
    "# 2. Generate random string using the symbols\n",
    "str_len = randint(20, 100) # Random string length\n",
    "sym_str = \"\" # Total string of symbols\n",
    "for i in range(0, str_len):\n",
    "    sym_idx = randint(0, num_symbols - 1)\n",
    "    sym_str += symbols[sym_idx]\n",
    "    weights[sym_idx] += 1\n",
    "\n",
    "weights = [w / str_len for w in weights] # Occurrence probabilities\n",
    "weights_dict = {symbols[i] : round(weights[i], 2) for i in range(num_symbols)} # Mapped to the symbols\n",
    "\n",
    "print(\"sym_str\", sym_str)\n",
    "print(\"weights\", weights)\n",
    "print(\"weights_dict\", weights_dict)"
   ]
  },
  {
   "cell_type": "code",
   "execution_count": 549,
   "metadata": {},
   "outputs": [],
   "source": [
    "# Node class\n",
    "class Node:\n",
    "    def __init__(self, prob, left, right, symbol):\n",
    "        self.prob = prob\n",
    "        self.left = left\n",
    "        self.right = right\n",
    "        self.symbol = symbol\n",
    "\n",
    "    def __str__(self):\n",
    "        if self.symbol:\n",
    "            return f\"({self.prob}, {self.symbol})\"\n",
    "        else:\n",
    "            return f\"({self.prob})\"\n",
    "\n",
    "    def __repr__(self):\n",
    "        return f\"({self.left})<-({self.prob:0.2f}, {self.symbol})->({self.right})\"\n",
    "\n",
    "    def is_leaf(self):\n",
    "        return not self.left and not self.right\n",
    "\n",
    "    def print_tree(self):\n",
    "        add_left = f\"{self.left.print_tree()}<-\" if self.left else \"\"\n",
    "        add_right = f\"->{self.right.print_tree()}\" if self.right else \"\"\n",
    "\n",
    "        return f\"{add_left} {self} {add_right}\"\n",
    "\n",
    "    def flatten(self):\n",
    "        pass # Nah"
   ]
  },
  {
   "cell_type": "code",
   "execution_count": 550,
   "metadata": {},
   "outputs": [
    {
     "name": "stdout",
     "output_type": "stream",
     "text": [
      "[(None)<-(0.14, A)->(None), (None)<-(0.14, B)->(None), (None)<-(0.14, C)->(None), (None)<-(0.14, D)->(None), (None)<-(0.24, E)->(None), (None)<-(0.21, F)->(None)]\n"
     ]
    }
   ],
   "source": [
    "# 3. Convert symbols into Nodes\n",
    "sym_nodes = [Node(weights[i], None, None, symbols[i]) for i in range(num_symbols)]\n",
    "\n",
    "print(sym_nodes)"
   ]
  },
  {
   "cell_type": "code",
   "execution_count": 551,
   "metadata": {},
   "outputs": [],
   "source": [
    "# 4. Combine the lowest two nodes until tree is completed\n",
    "while len(sym_nodes) != 1:\n",
    "    # Sort by ascending probability\n",
    "    sym_nodes.sort(key=lambda node: node.prob)\n",
    "\n",
    "    # Extract lowest two nodes\n",
    "    left = sym_nodes.pop(0)\n",
    "    right = sym_nodes.pop(0)\n",
    "\n",
    "    # Combine a new node and add back\n",
    "    combine = Node(left.prob + right.prob, left, right, None)\n",
    "\n",
    "    sym_nodes.append(combine) # Lazy"
   ]
  },
  {
   "cell_type": "code",
   "execution_count": 552,
   "metadata": {},
   "outputs": [
    {
     "name": "stdout",
     "output_type": "stream",
     "text": [
      "sym_nodes after processing: [((0.4482758620689655))<-(1.00, None)->((0.5517241379310345))]\n",
      " (0.20689655172413793, F) <- (0.4482758620689655) -> (0.2413793103448276, E) <- (1.0) -> (0.13793103448275862, A) <- (0.27586206896551724) -> (0.13793103448275862, B) <- (0.5517241379310345) -> (0.13793103448275862, C) <- (0.27586206896551724) -> (0.13793103448275862, D) \n"
     ]
    }
   ],
   "source": [
    "root = sym_nodes[0]\n",
    "print(\"sym_nodes after processing:\", sym_nodes) # Probability = 1.00\n",
    "print(root.print_tree())  # Doesn't show depth. Just to sanity check."
   ]
  },
  {
   "cell_type": "code",
   "execution_count": 553,
   "metadata": {},
   "outputs": [
    {
     "name": "stdout",
     "output_type": "stream",
     "text": [
      "weights_dict {'A': 0.14, 'B': 0.14, 'C': 0.14, 'D': 0.14, 'E': 0.24, 'F': 0.21}\n",
      "symbol->code {'F': '00', 'E': '01', 'A': '100', 'B': '101', 'C': '110', 'D': '111'}\n",
      "code->symbol {'00': 'F', '01': 'E', '100': 'A', '101': 'B', '110': 'C', '111': 'D'}\n"
     ]
    }
   ],
   "source": [
    "# 5. Dictionaries for symbol->code and code->symbol\n",
    "codes = {}\n",
    "uncodes = {}\n",
    "def assign_code(codes, last_code, node : Node):\n",
    "    if (node.is_leaf()):\n",
    "        codes[node.symbol] = last_code\n",
    "        uncodes[last_code] = node.symbol\n",
    "        return\n",
    "    \n",
    "    if (node.left):\n",
    "        assign_code(codes, last_code + \"0\", node.left)\n",
    "    if (node.right):\n",
    "        assign_code(codes, last_code + \"1\", node.right)\n",
    "\n",
    "assign_code(codes, \"\", root)\n",
    "print(\"weights_dict\", weights_dict)\n",
    "print(\"symbol->code\", codes)\n",
    "print(\"code->symbol\", uncodes)"
   ]
  },
  {
   "cell_type": "code",
   "execution_count": 554,
   "metadata": {},
   "outputs": [
    {
     "name": "stdout",
     "output_type": "stream",
     "text": [
      "code string: 11111000011001001010100000010100111100111011101010110011010111011101010100\n"
     ]
    }
   ],
   "source": [
    "# 6. Convert to string of codewords (symbol->code)\n",
    "code_str =\"\"\n",
    "for c in sym_str:\n",
    "    code_str += codes[c]\n",
    "print(\"code string:\", code_str)"
   ]
  },
  {
   "cell_type": "code",
   "execution_count": 555,
   "metadata": {},
   "outputs": [
    {
     "name": "stdout",
     "output_type": "stream",
     "text": [
      "original string: DCFEAABEFFFBFDADECBEACBCDEEEF\n",
      "decoded string: DCFEAABEFFFBFDADECBEACBCDEEEF\n",
      "original string =? decoded string: True\n"
     ]
    }
   ],
   "source": [
    "# 7. Decode the code string into symbols (code->symbol)\n",
    "curr = \"\"\n",
    "decode = \"\"\n",
    "for c in code_str:\n",
    "    curr += c\n",
    "    if (uncodes.get(curr)):\n",
    "        decode += uncodes[curr]\n",
    "        curr = \"\"\n",
    "        \n",
    "# Verify that the original and decoded strings are equivalent\n",
    "print(\"original string:\", sym_str)\n",
    "print(\"decoded string:\", decode)\n",
    "print(f\"original string =? decoded string: {sym_str==decode}\")"
   ]
  }
 ],
 "metadata": {
  "kernelspec": {
   "display_name": "base",
   "language": "python",
   "name": "python3"
  },
  "language_info": {
   "codemirror_mode": {
    "name": "ipython",
    "version": 3
   },
   "file_extension": ".py",
   "mimetype": "text/x-python",
   "name": "python",
   "nbconvert_exporter": "python",
   "pygments_lexer": "ipython3",
   "version": "3.9.21"
  }
 },
 "nbformat": 4,
 "nbformat_minor": 2
}
